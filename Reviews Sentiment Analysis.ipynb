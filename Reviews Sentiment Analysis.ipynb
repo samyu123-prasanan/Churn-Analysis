{
 "cells": [
  {
   "cell_type": "markdown",
   "id": "b86cf617",
   "metadata": {},
   "source": [
    "# Sentiment Analysis Using TextBlob"
   ]
  },
  {
   "cell_type": "code",
   "execution_count": 1,
   "id": "3c1c16d0",
   "metadata": {},
   "outputs": [
    {
     "data": {
      "text/html": [
       "<div>\n",
       "<style scoped>\n",
       "    .dataframe tbody tr th:only-of-type {\n",
       "        vertical-align: middle;\n",
       "    }\n",
       "\n",
       "    .dataframe tbody tr th {\n",
       "        vertical-align: top;\n",
       "    }\n",
       "\n",
       "    .dataframe thead th {\n",
       "        text-align: right;\n",
       "    }\n",
       "</style>\n",
       "<table border=\"1\" class=\"dataframe\">\n",
       "  <thead>\n",
       "    <tr style=\"text-align: right;\">\n",
       "      <th></th>\n",
       "      <th>reviews</th>\n",
       "    </tr>\n",
       "  </thead>\n",
       "  <tbody>\n",
       "    <tr>\n",
       "      <th>0</th>\n",
       "      <td>If you are ready to pay at least 500 Rs. per m...</td>\n",
       "    </tr>\n",
       "    <tr>\n",
       "      <th>1</th>\n",
       "      <td>Bad service by tatasky</td>\n",
       "    </tr>\n",
       "    <tr>\n",
       "      <th>2</th>\n",
       "      <td>Good purchase</td>\n",
       "    </tr>\n",
       "    <tr>\n",
       "      <th>3</th>\n",
       "      <td>Ideal for HD TVs.. Does not have any competiti...</td>\n",
       "    </tr>\n",
       "    <tr>\n",
       "      <th>4</th>\n",
       "      <td>Best in dth..</td>\n",
       "    </tr>\n",
       "  </tbody>\n",
       "</table>\n",
       "</div>"
      ],
      "text/plain": [
       "                                             reviews\n",
       "0  If you are ready to pay at least 500 Rs. per m...\n",
       "1                             Bad service by tatasky\n",
       "2                                      Good purchase\n",
       "3  Ideal for HD TVs.. Does not have any competiti...\n",
       "4                                      Best in dth.."
      ]
     },
     "execution_count": 1,
     "metadata": {},
     "output_type": "execute_result"
    }
   ],
   "source": [
    "from nltk.sentiment.vader import SentimentIntensityAnalyzer\n",
    "from nltk.sentiment.util import *\n",
    "from textblob import TextBlob\n",
    "from nltk import tokenize\n",
    "import seaborn as sns\n",
    "import pandas as pd\n",
    "df = pd.read_csv('C:\\\\Users\\\\admin\\\\Desktop\\\\Tatasky Amazon Review sheet.csv')\n",
    "df.head()"
   ]
  },
  {
   "cell_type": "code",
   "execution_count": 2,
   "id": "fa7725be",
   "metadata": {},
   "outputs": [],
   "source": [
    "#df.drop_duplicates(subset =”Description”, keep = “first”, inplace = True)\n",
    "df['reviews'] = df['reviews'].astype('str')\n",
    "def get_polarity(text):\n",
    "    return TextBlob(text).sentiment.polarity\n",
    "df['Polarity'] = df['reviews'].apply(get_polarity)"
   ]
  },
  {
   "cell_type": "code",
   "execution_count": 3,
   "id": "48091e7a",
   "metadata": {},
   "outputs": [],
   "source": [
    "df['Sentiment_Type']=''\n",
    "df.loc[df.Polarity>0,'Sentiment_Type']='POSITIVE'\n",
    "df.loc[df.Polarity==0,'Sentiment_Type']='NEUTRAL'\n",
    "df.loc[df.Polarity<0,'Sentiment_Type']='NEGATIVE'"
   ]
  },
  {
   "cell_type": "code",
   "execution_count": 4,
   "id": "219892de",
   "metadata": {},
   "outputs": [
    {
     "data": {
      "text/html": [
       "<div>\n",
       "<style scoped>\n",
       "    .dataframe tbody tr th:only-of-type {\n",
       "        vertical-align: middle;\n",
       "    }\n",
       "\n",
       "    .dataframe tbody tr th {\n",
       "        vertical-align: top;\n",
       "    }\n",
       "\n",
       "    .dataframe thead th {\n",
       "        text-align: right;\n",
       "    }\n",
       "</style>\n",
       "<table border=\"1\" class=\"dataframe\">\n",
       "  <thead>\n",
       "    <tr style=\"text-align: right;\">\n",
       "      <th></th>\n",
       "      <th>reviews</th>\n",
       "      <th>Polarity</th>\n",
       "      <th>Sentiment_Type</th>\n",
       "    </tr>\n",
       "  </thead>\n",
       "  <tbody>\n",
       "    <tr>\n",
       "      <th>0</th>\n",
       "      <td>If you are ready to pay at least 500 Rs. per m...</td>\n",
       "      <td>0.07</td>\n",
       "      <td>POSITIVE</td>\n",
       "    </tr>\n",
       "    <tr>\n",
       "      <th>1</th>\n",
       "      <td>Bad service by tatasky</td>\n",
       "      <td>-0.70</td>\n",
       "      <td>NEGATIVE</td>\n",
       "    </tr>\n",
       "    <tr>\n",
       "      <th>2</th>\n",
       "      <td>Good purchase</td>\n",
       "      <td>0.70</td>\n",
       "      <td>POSITIVE</td>\n",
       "    </tr>\n",
       "    <tr>\n",
       "      <th>3</th>\n",
       "      <td>Ideal for HD TVs.. Does not have any competiti...</td>\n",
       "      <td>0.50</td>\n",
       "      <td>POSITIVE</td>\n",
       "    </tr>\n",
       "    <tr>\n",
       "      <th>4</th>\n",
       "      <td>Best in dth..</td>\n",
       "      <td>1.00</td>\n",
       "      <td>POSITIVE</td>\n",
       "    </tr>\n",
       "  </tbody>\n",
       "</table>\n",
       "</div>"
      ],
      "text/plain": [
       "                                             reviews  Polarity Sentiment_Type\n",
       "0  If you are ready to pay at least 500 Rs. per m...      0.07       POSITIVE\n",
       "1                             Bad service by tatasky     -0.70       NEGATIVE\n",
       "2                                      Good purchase      0.70       POSITIVE\n",
       "3  Ideal for HD TVs.. Does not have any competiti...      0.50       POSITIVE\n",
       "4                                      Best in dth..      1.00       POSITIVE"
      ]
     },
     "execution_count": 4,
     "metadata": {},
     "output_type": "execute_result"
    }
   ],
   "source": [
    "df.head()"
   ]
  },
  {
   "cell_type": "markdown",
   "id": "5ad1f8a8",
   "metadata": {},
   "source": [
    "# Sentiment Analysis Using Vader"
   ]
  },
  {
   "cell_type": "code",
   "execution_count": 5,
   "id": "2ea9559a",
   "metadata": {},
   "outputs": [
    {
     "name": "stderr",
     "output_type": "stream",
     "text": [
      "[nltk_data] Downloading package vader_lexicon to\n",
      "[nltk_data]     C:\\Users\\admin\\AppData\\Roaming\\nltk_data...\n",
      "[nltk_data]   Package vader_lexicon is already up-to-date!\n"
     ]
    },
    {
     "data": {
      "text/html": [
       "<div>\n",
       "<style scoped>\n",
       "    .dataframe tbody tr th:only-of-type {\n",
       "        vertical-align: middle;\n",
       "    }\n",
       "\n",
       "    .dataframe tbody tr th {\n",
       "        vertical-align: top;\n",
       "    }\n",
       "\n",
       "    .dataframe thead th {\n",
       "        text-align: right;\n",
       "    }\n",
       "</style>\n",
       "<table border=\"1\" class=\"dataframe\">\n",
       "  <thead>\n",
       "    <tr style=\"text-align: right;\">\n",
       "      <th></th>\n",
       "      <th>reviews</th>\n",
       "    </tr>\n",
       "  </thead>\n",
       "  <tbody>\n",
       "    <tr>\n",
       "      <th>0</th>\n",
       "      <td>If you are ready to pay at least 500 Rs. per m...</td>\n",
       "    </tr>\n",
       "    <tr>\n",
       "      <th>1</th>\n",
       "      <td>Bad service by tatasky</td>\n",
       "    </tr>\n",
       "    <tr>\n",
       "      <th>2</th>\n",
       "      <td>Good purchase</td>\n",
       "    </tr>\n",
       "    <tr>\n",
       "      <th>3</th>\n",
       "      <td>Ideal for HD TVs.. Does not have any competiti...</td>\n",
       "    </tr>\n",
       "    <tr>\n",
       "      <th>4</th>\n",
       "      <td>Best in dth..</td>\n",
       "    </tr>\n",
       "  </tbody>\n",
       "</table>\n",
       "</div>"
      ],
      "text/plain": [
       "                                             reviews\n",
       "0  If you are ready to pay at least 500 Rs. per m...\n",
       "1                             Bad service by tatasky\n",
       "2                                      Good purchase\n",
       "3  Ideal for HD TVs.. Does not have any competiti...\n",
       "4                                      Best in dth.."
      ]
     },
     "execution_count": 5,
     "metadata": {},
     "output_type": "execute_result"
    }
   ],
   "source": [
    "import nltk\n",
    "nltk.download('vader_lexicon')\n",
    "from nltk.sentiment.vader import SentimentIntensityAnalyzer\n",
    "sid = SentimentIntensityAnalyzer()\n",
    "import pandas as pd\n",
    "df = pd.read_csv('C:\\\\Users\\\\admin\\\\Desktop\\\\Tatasky Amazon Review sheet.csv')\n",
    "df.head()"
   ]
  },
  {
   "cell_type": "code",
   "execution_count": 6,
   "id": "bfde92a2",
   "metadata": {},
   "outputs": [
    {
     "data": {
      "text/html": [
       "<div>\n",
       "<style scoped>\n",
       "    .dataframe tbody tr th:only-of-type {\n",
       "        vertical-align: middle;\n",
       "    }\n",
       "\n",
       "    .dataframe tbody tr th {\n",
       "        vertical-align: top;\n",
       "    }\n",
       "\n",
       "    .dataframe thead th {\n",
       "        text-align: right;\n",
       "    }\n",
       "</style>\n",
       "<table border=\"1\" class=\"dataframe\">\n",
       "  <thead>\n",
       "    <tr style=\"text-align: right;\">\n",
       "      <th></th>\n",
       "      <th>reviews</th>\n",
       "      <th>scores</th>\n",
       "    </tr>\n",
       "  </thead>\n",
       "  <tbody>\n",
       "    <tr>\n",
       "      <th>0</th>\n",
       "      <td>If you are ready to pay at least 500 Rs. per m...</td>\n",
       "      <td>{'neg': 0.047, 'neu': 0.678, 'pos': 0.275, 'co...</td>\n",
       "    </tr>\n",
       "    <tr>\n",
       "      <th>1</th>\n",
       "      <td>Bad service by tatasky</td>\n",
       "      <td>{'neg': 0.538, 'neu': 0.462, 'pos': 0.0, 'comp...</td>\n",
       "    </tr>\n",
       "    <tr>\n",
       "      <th>2</th>\n",
       "      <td>Good purchase</td>\n",
       "      <td>{'neg': 0.0, 'neu': 0.256, 'pos': 0.744, 'comp...</td>\n",
       "    </tr>\n",
       "    <tr>\n",
       "      <th>3</th>\n",
       "      <td>Ideal for HD TVs.. Does not have any competiti...</td>\n",
       "      <td>{'neg': 0.0, 'neu': 0.815, 'pos': 0.185, 'comp...</td>\n",
       "    </tr>\n",
       "    <tr>\n",
       "      <th>4</th>\n",
       "      <td>Best in dth..</td>\n",
       "      <td>{'neg': 0.0, 'neu': 0.323, 'pos': 0.677, 'comp...</td>\n",
       "    </tr>\n",
       "  </tbody>\n",
       "</table>\n",
       "</div>"
      ],
      "text/plain": [
       "                                             reviews  \\\n",
       "0  If you are ready to pay at least 500 Rs. per m...   \n",
       "1                             Bad service by tatasky   \n",
       "2                                      Good purchase   \n",
       "3  Ideal for HD TVs.. Does not have any competiti...   \n",
       "4                                      Best in dth..   \n",
       "\n",
       "                                              scores  \n",
       "0  {'neg': 0.047, 'neu': 0.678, 'pos': 0.275, 'co...  \n",
       "1  {'neg': 0.538, 'neu': 0.462, 'pos': 0.0, 'comp...  \n",
       "2  {'neg': 0.0, 'neu': 0.256, 'pos': 0.744, 'comp...  \n",
       "3  {'neg': 0.0, 'neu': 0.815, 'pos': 0.185, 'comp...  \n",
       "4  {'neg': 0.0, 'neu': 0.323, 'pos': 0.677, 'comp...  "
      ]
     },
     "execution_count": 6,
     "metadata": {},
     "output_type": "execute_result"
    }
   ],
   "source": [
    "df['scores'] = df['reviews'].apply(lambda Description: sid.polarity_scores(Description))\n",
    "df.head()"
   ]
  },
  {
   "cell_type": "code",
   "execution_count": 7,
   "id": "bf657645",
   "metadata": {},
   "outputs": [],
   "source": [
    "df['compound'] = df['scores'].apply(lambda score_dict: score_dict['compound'])\n",
    "df['sentiment_type']=''\n",
    "df.loc[df.compound>0,'sentiment_type']='POSITIVE'\n",
    "df.loc[df.compound==0,'sentiment_type']='NEUTRAL'\n",
    "df.loc[df.compound<0,'sentiment_type']='NEGATIVE'"
   ]
  },
  {
   "cell_type": "code",
   "execution_count": 8,
   "id": "b980a6aa",
   "metadata": {},
   "outputs": [
    {
     "data": {
      "text/html": [
       "<div>\n",
       "<style scoped>\n",
       "    .dataframe tbody tr th:only-of-type {\n",
       "        vertical-align: middle;\n",
       "    }\n",
       "\n",
       "    .dataframe tbody tr th {\n",
       "        vertical-align: top;\n",
       "    }\n",
       "\n",
       "    .dataframe thead th {\n",
       "        text-align: right;\n",
       "    }\n",
       "</style>\n",
       "<table border=\"1\" class=\"dataframe\">\n",
       "  <thead>\n",
       "    <tr style=\"text-align: right;\">\n",
       "      <th></th>\n",
       "      <th>reviews</th>\n",
       "      <th>scores</th>\n",
       "      <th>compound</th>\n",
       "      <th>sentiment_type</th>\n",
       "    </tr>\n",
       "  </thead>\n",
       "  <tbody>\n",
       "    <tr>\n",
       "      <th>0</th>\n",
       "      <td>If you are ready to pay at least 500 Rs. per m...</td>\n",
       "      <td>{'neg': 0.047, 'neu': 0.678, 'pos': 0.275, 'co...</td>\n",
       "      <td>0.7717</td>\n",
       "      <td>POSITIVE</td>\n",
       "    </tr>\n",
       "    <tr>\n",
       "      <th>1</th>\n",
       "      <td>Bad service by tatasky</td>\n",
       "      <td>{'neg': 0.538, 'neu': 0.462, 'pos': 0.0, 'comp...</td>\n",
       "      <td>-0.5423</td>\n",
       "      <td>NEGATIVE</td>\n",
       "    </tr>\n",
       "    <tr>\n",
       "      <th>2</th>\n",
       "      <td>Good purchase</td>\n",
       "      <td>{'neg': 0.0, 'neu': 0.256, 'pos': 0.744, 'comp...</td>\n",
       "      <td>0.4404</td>\n",
       "      <td>POSITIVE</td>\n",
       "    </tr>\n",
       "    <tr>\n",
       "      <th>3</th>\n",
       "      <td>Ideal for HD TVs.. Does not have any competiti...</td>\n",
       "      <td>{'neg': 0.0, 'neu': 0.815, 'pos': 0.185, 'comp...</td>\n",
       "      <td>0.5267</td>\n",
       "      <td>POSITIVE</td>\n",
       "    </tr>\n",
       "    <tr>\n",
       "      <th>4</th>\n",
       "      <td>Best in dth..</td>\n",
       "      <td>{'neg': 0.0, 'neu': 0.323, 'pos': 0.677, 'comp...</td>\n",
       "      <td>0.6369</td>\n",
       "      <td>POSITIVE</td>\n",
       "    </tr>\n",
       "  </tbody>\n",
       "</table>\n",
       "</div>"
      ],
      "text/plain": [
       "                                             reviews  \\\n",
       "0  If you are ready to pay at least 500 Rs. per m...   \n",
       "1                             Bad service by tatasky   \n",
       "2                                      Good purchase   \n",
       "3  Ideal for HD TVs.. Does not have any competiti...   \n",
       "4                                      Best in dth..   \n",
       "\n",
       "                                              scores  compound sentiment_type  \n",
       "0  {'neg': 0.047, 'neu': 0.678, 'pos': 0.275, 'co...    0.7717       POSITIVE  \n",
       "1  {'neg': 0.538, 'neu': 0.462, 'pos': 0.0, 'comp...   -0.5423       NEGATIVE  \n",
       "2  {'neg': 0.0, 'neu': 0.256, 'pos': 0.744, 'comp...    0.4404       POSITIVE  \n",
       "3  {'neg': 0.0, 'neu': 0.815, 'pos': 0.185, 'comp...    0.5267       POSITIVE  \n",
       "4  {'neg': 0.0, 'neu': 0.323, 'pos': 0.677, 'comp...    0.6369       POSITIVE  "
      ]
     },
     "execution_count": 8,
     "metadata": {},
     "output_type": "execute_result"
    }
   ],
   "source": [
    "df.head()"
   ]
  },
  {
   "cell_type": "code",
   "execution_count": 9,
   "id": "7f68bd5b",
   "metadata": {},
   "outputs": [
    {
     "name": "stdout",
     "output_type": "stream",
     "text": [
      "7043\n"
     ]
    }
   ],
   "source": [
    "index = df.index\n",
    "count = len(index)\n",
    "print(count)"
   ]
  },
  {
   "cell_type": "code",
   "execution_count": 10,
   "id": "073eb9f6",
   "metadata": {},
   "outputs": [
    {
     "data": {
      "text/plain": [
       "<AxesSubplot:title={'center':'sentiment analysis'}>"
      ]
     },
     "execution_count": 10,
     "metadata": {},
     "output_type": "execute_result"
    },
    {
     "data": {
      "image/png": "[encoded data removed]",
      "text/plain": [
       "<Figure size 432x288 with 1 Axes>"
      ]
     },
     "metadata": {
      "needs_background": "light"
     },
     "output_type": "display_data"
    }
   ],
   "source": [
    "df.sentiment_type.value_counts().plot(kind='bar',title=\"sentiment analysis\", color='pink')"
   ]
  },
  {
   "cell_type": "code",
   "execution_count": 11,
   "id": "f8eda0a8",
   "metadata": {},
   "outputs": [],
   "source": [
    "df.to_csv('Tatasky Amazon Review sheet_Scores.csv')"
   ]
  },
  {
   "cell_type": "code",
   "execution_count": 12,
   "id": "32039758",
   "metadata": {},
   "outputs": [
    {
     "name": "stdout",
     "output_type": "stream",
     "text": [
      " Volume in drive C has no label.\n",
      " Volume Serial Number is 386F-6856\n",
      "\n",
      " Directory of C:\\Users\\admin\n",
      "\n",
      "05/24/2021  11:21 PM           861,056 ECenter Dataset.csv\n",
      "05/26/2021  03:13 PM         1,324,814 Tatasky Amazon Review sheet_Scores.csv\n",
      "               2 File(s)      2,185,870 bytes\n",
      "               0 Dir(s)  48,176,640,000 bytes free\n"
     ]
    }
   ],
   "source": [
    "ls *.csv"
   ]
  },
  {
   "cell_type": "code",
   "execution_count": null,
   "id": "29c25f80",
   "metadata": {},
   "outputs": [],
   "source": []
  }
 ],
 "metadata": {
  "kernelspec": {
   "display_name": "Python 3",
   "language": "python",
   "name": "python3"
  },
  "language_info": {
   "codemirror_mode": {
    "name": "ipython",
    "version": 3
   },
   "file_extension": ".py",
   "mimetype": "text/x-python",
   "name": "python",
   "nbconvert_exporter": "python",
   "pygments_lexer": "ipython3",
   "version": "3.8.8"
  }
 },
 "nbformat": 4,
 "nbformat_minor": 5
}
